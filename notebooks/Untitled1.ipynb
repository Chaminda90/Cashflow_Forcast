{
 "cells": [
  {
   "cell_type": "code",
   "execution_count": 2,
   "id": "94a8f4ea",
   "metadata": {},
   "outputs": [
    {
     "name": "stdout",
     "output_type": "stream",
     "text": [
      "Collecting faker\n",
      "  Downloading Faker-19.6.2-py3-none-any.whl (1.7 MB)\n",
      "     ---------------------------------------- 1.7/1.7 MB 3.6 MB/s eta 0:00:00\n",
      "Requirement already satisfied: python-dateutil>=2.4 in c:\\users\\chamindadilhanbistec\\anaconda3\\lib\\site-packages (from faker) (2.8.2)\n",
      "Requirement already satisfied: six>=1.5 in c:\\users\\chamindadilhanbistec\\anaconda3\\lib\\site-packages (from python-dateutil>=2.4->faker) (1.16.0)\n",
      "Installing collected packages: faker\n",
      "Successfully installed faker-19.6.2\n",
      "Note: you may need to restart the kernel to use updated packages.\n"
     ]
    }
   ],
   "source": [
    "pip install faker"
   ]
  },
  {
   "cell_type": "code",
   "execution_count": 3,
   "id": "48d89dfe",
   "metadata": {},
   "outputs": [],
   "source": [
    "import pandas as pd\n",
    "from faker import Faker\n",
    "import random\n",
    "import calendar\n",
    "\n",
    "# Initialize Faker for generating random descriptions\n",
    "fake = Faker()\n",
    "\n",
    "# Generate synthetic data for the past 10 years\n",
    "data = []\n",
    "for year in range(2011, 2021):  # Adjust the range as needed\n",
    "    for month in range(1, 13):\n",
    "        fiscal_year = year\n",
    "        month_name = calendar.month_name[month]\n",
    "        inflow_outflow = random.choice([\"Inflows\", \"Outflows\"])\n",
    "        description = fake.sentence(nb_words=3, variable_nb_words=True)\n",
    "        amount = round(random.uniform(1, 100000), 2)  # Random amount between 1 and 100,000\n",
    "\n",
    "        data.append([fiscal_year, month_name, inflow_outflow, description, amount])\n",
    "\n",
    "# Create a DataFrame\n",
    "df = pd.DataFrame(data, columns=[\"FISCAL YEAR\", \"MONTH\", \"INFLOWS/OUTFLOWS\", \"DESCRIPTION\", \"AMOUNT\"])\n",
    "\n",
    "# Save the data to a CSV file\n",
    "df.to_csv(\"synthetic_data.csv\", index=False)\n"
   ]
  },
  {
   "cell_type": "code",
   "execution_count": null,
   "id": "96a2d7c0",
   "metadata": {},
   "outputs": [],
   "source": []
  }
 ],
 "metadata": {
  "kernelspec": {
   "display_name": "Python 3 (ipykernel)",
   "language": "python",
   "name": "python3"
  },
  "language_info": {
   "codemirror_mode": {
    "name": "ipython",
    "version": 3
   },
   "file_extension": ".py",
   "mimetype": "text/x-python",
   "name": "python",
   "nbconvert_exporter": "python",
   "pygments_lexer": "ipython3",
   "version": "3.10.9"
  }
 },
 "nbformat": 4,
 "nbformat_minor": 5
}
