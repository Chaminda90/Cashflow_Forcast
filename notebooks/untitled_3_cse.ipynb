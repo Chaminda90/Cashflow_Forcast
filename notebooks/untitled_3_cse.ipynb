{
 "cells": [
  {
   "cell_type": "code",
   "execution_count": 11,
   "id": "1c803685",
   "metadata": {},
   "outputs": [],
   "source": [
    "import numpy as np\n",
    "import pandas as pd\n",
    "from statsmodels.graphics.tsaplots import plot_acf\n",
    "from pandas.plotting import autocorrelation_plot\n",
    "import statsmodels.api as sm\n",
    "\n",
    "\n",
    "import matplotlib.pyplot as plt\n",
    "%matplotlib inline"
   ]
  },
  {
   "cell_type": "code",
   "execution_count": 5,
   "id": "71a69314",
   "metadata": {},
   "outputs": [],
   "source": [
    "df=pd.read_csv('cashflowforecast.csv')"
   ]
  },
  {
   "cell_type": "code",
   "execution_count": 7,
   "id": "68265cc6",
   "metadata": {},
   "outputs": [
    {
     "data": {
      "text/html": [
       "<div>\n",
       "<style scoped>\n",
       "    .dataframe tbody tr th:only-of-type {\n",
       "        vertical-align: middle;\n",
       "    }\n",
       "\n",
       "    .dataframe tbody tr th {\n",
       "        vertical-align: top;\n",
       "    }\n",
       "\n",
       "    .dataframe thead th {\n",
       "        text-align: right;\n",
       "    }\n",
       "</style>\n",
       "<table border=\"1\" class=\"dataframe\">\n",
       "  <thead>\n",
       "    <tr style=\"text-align: right;\">\n",
       "      <th></th>\n",
       "      <th>Month</th>\n",
       "      <th>Cashflow at the end</th>\n",
       "    </tr>\n",
       "  </thead>\n",
       "  <tbody>\n",
       "    <tr>\n",
       "      <th>0</th>\n",
       "      <td>2012.03.31</td>\n",
       "      <td>26,731,441</td>\n",
       "    </tr>\n",
       "    <tr>\n",
       "      <th>1</th>\n",
       "      <td>2012.09.30</td>\n",
       "      <td>71,994,170</td>\n",
       "    </tr>\n",
       "    <tr>\n",
       "      <th>2</th>\n",
       "      <td>2012.12.31</td>\n",
       "      <td>108,633,183</td>\n",
       "    </tr>\n",
       "    <tr>\n",
       "      <th>3</th>\n",
       "      <td>2013.03.31</td>\n",
       "      <td>186,053,544</td>\n",
       "    </tr>\n",
       "    <tr>\n",
       "      <th>4</th>\n",
       "      <td>2013.06.30</td>\n",
       "      <td>202,489,744</td>\n",
       "    </tr>\n",
       "  </tbody>\n",
       "</table>\n",
       "</div>"
      ],
      "text/plain": [
       "        Month Cashflow at the end\n",
       "0  2012.03.31          26,731,441\n",
       "1  2012.09.30          71,994,170\n",
       "2  2012.12.31         108,633,183\n",
       "3  2013.03.31         186,053,544\n",
       "4  2013.06.30         202,489,744"
      ]
     },
     "execution_count": 7,
     "metadata": {},
     "output_type": "execute_result"
    }
   ],
   "source": [
    "df.head()\n"
   ]
  },
  {
   "cell_type": "code",
   "execution_count": 8,
   "id": "8609757f",
   "metadata": {},
   "outputs": [
    {
     "data": {
      "text/html": [
       "<div>\n",
       "<style scoped>\n",
       "    .dataframe tbody tr th:only-of-type {\n",
       "        vertical-align: middle;\n",
       "    }\n",
       "\n",
       "    .dataframe tbody tr th {\n",
       "        vertical-align: top;\n",
       "    }\n",
       "\n",
       "    .dataframe thead th {\n",
       "        text-align: right;\n",
       "    }\n",
       "</style>\n",
       "<table border=\"1\" class=\"dataframe\">\n",
       "  <thead>\n",
       "    <tr style=\"text-align: right;\">\n",
       "      <th></th>\n",
       "      <th>Month</th>\n",
       "      <th>Cashflow at the end</th>\n",
       "    </tr>\n",
       "  </thead>\n",
       "  <tbody>\n",
       "    <tr>\n",
       "      <th>19</th>\n",
       "      <td>2017.03.31</td>\n",
       "      <td>1,024,654,683</td>\n",
       "    </tr>\n",
       "    <tr>\n",
       "      <th>20</th>\n",
       "      <td>2017.06.30</td>\n",
       "      <td>1,083,800,732</td>\n",
       "    </tr>\n",
       "    <tr>\n",
       "      <th>21</th>\n",
       "      <td>2017.09.30</td>\n",
       "      <td>606,937,593</td>\n",
       "    </tr>\n",
       "    <tr>\n",
       "      <th>22</th>\n",
       "      <td>2017.12.31</td>\n",
       "      <td>1,341,262,558</td>\n",
       "    </tr>\n",
       "    <tr>\n",
       "      <th>23</th>\n",
       "      <td>2018.03.31</td>\n",
       "      <td>1,008,737,712</td>\n",
       "    </tr>\n",
       "  </tbody>\n",
       "</table>\n",
       "</div>"
      ],
      "text/plain": [
       "         Month Cashflow at the end\n",
       "19  2017.03.31       1,024,654,683\n",
       "20  2017.06.30       1,083,800,732\n",
       "21  2017.09.30         606,937,593\n",
       "22  2017.12.31       1,341,262,558\n",
       "23  2018.03.31       1,008,737,712"
      ]
     },
     "execution_count": 8,
     "metadata": {},
     "output_type": "execute_result"
    }
   ],
   "source": [
    "df.tail()"
   ]
  },
  {
   "cell_type": "code",
   "execution_count": 9,
   "id": "dd50ea70",
   "metadata": {},
   "outputs": [],
   "source": [
    "# Define the SARIMA order and seasonal order\n",
    "order = (1, 1, 1)  # (p, d, q)\n",
    "seasonal_order = (1, 1, 1, 4)  # (P, D, Q, s)"
   ]
  },
  {
   "cell_type": "code",
   "execution_count": 15,
   "id": "0f482fa6",
   "metadata": {},
   "outputs": [
    {
     "name": "stderr",
     "output_type": "stream",
     "text": [
      "D:\\Anaconda\\lib\\site-packages\\statsmodels\\tsa\\statespace\\sarimax.py:866: UserWarning: Too few observations to estimate starting parameters for ARMA and trend. All parameters except for variances will be set to zeros.\n",
      "  warn('Too few observations to estimate starting parameters%s.'\n",
      "D:\\Anaconda\\lib\\site-packages\\statsmodels\\tsa\\statespace\\sarimax.py:866: UserWarning: Too few observations to estimate starting parameters for seasonal ARMA. All parameters except for variances will be set to zeros.\n",
      "  warn('Too few observations to estimate starting parameters%s.'\n"
     ]
    }
   ],
   "source": [
    "# Fit the SARIMA model\n",
    "sarima_model = sm.tsa.SARIMAX(df['Cashflow at the end'], order=order, seasonal_order=seasonal_order)\n",
    "results = sarima_model.fit()"
   ]
  },
  {
   "cell_type": "code",
   "execution_count": 13,
   "id": "a658ee65",
   "metadata": {},
   "outputs": [
    {
     "name": "stdout",
     "output_type": "stream",
     "text": [
      "object\n"
     ]
    }
   ],
   "source": [
    "print(df['Cashflow at the end'].dtype)\n"
   ]
  },
  {
   "cell_type": "code",
   "execution_count": 14,
   "id": "e3ebef06",
   "metadata": {},
   "outputs": [],
   "source": [
    "df['Cashflow at the end'] = pd.to_numeric(df['Cashflow at the end'], errors='coerce')\n"
   ]
  },
  {
   "cell_type": "code",
   "execution_count": 16,
   "id": "270df97a",
   "metadata": {},
   "outputs": [
    {
     "name": "stdout",
     "output_type": "stream",
     "text": [
      "                                     SARIMAX Results                                     \n",
      "=========================================================================================\n",
      "Dep. Variable:               Cashflow at the end   No. Observations:                   24\n",
      "Model:             SARIMAX(1, 1, 1)x(1, 1, 1, 4)   Log Likelihood                   0.000\n",
      "Date:                           Mon, 13 Nov 2023   AIC                             10.000\n",
      "Time:                                   00:56:53   BIC                             14.722\n",
      "Sample:                                        0   HQIC                            10.799\n",
      "                                            - 24                                         \n",
      "Covariance Type:                             opg                                         \n",
      "==============================================================================\n",
      "                 coef    std err          z      P>|z|      [0.025      0.975]\n",
      "------------------------------------------------------------------------------\n",
      "ar.L1               0         -0        nan        nan           0           0\n",
      "ma.L1               0         -0        nan        nan           0           0\n",
      "ar.S.L4             0         -0        nan        nan           0           0\n",
      "ma.S.L4             0         -0        nan        nan           0           0\n",
      "sigma2         1.0000         -0       -inf      0.000       1.000       1.000\n",
      "===================================================================================\n",
      "Ljung-Box (L1) (Q):                    nan   Jarque-Bera (JB):                  nan\n",
      "Prob(Q):                               nan   Prob(JB):                          nan\n",
      "Heteroskedasticity (H):                nan   Skew:                              nan\n",
      "Prob(H) (two-sided):                   nan   Kurtosis:                          nan\n",
      "===================================================================================\n",
      "\n",
      "Warnings:\n",
      "[1] Covariance matrix calculated using the outer product of gradients (complex-step).\n",
      "[2] Covariance matrix is singular or near-singular, with condition number    inf. Standard errors may be unstable.\n"
     ]
    },
    {
     "name": "stderr",
     "output_type": "stream",
     "text": [
      "D:\\Anaconda\\lib\\site-packages\\statsmodels\\tsa\\statespace\\mlemodel.py:3015: RuntimeWarning: divide by zero encountered in divide\n",
      "  return self.params / self.bse\n",
      "D:\\Anaconda\\lib\\site-packages\\statsmodels\\tsa\\statespace\\mlemodel.py:3015: RuntimeWarning: invalid value encountered in divide\n",
      "  return self.params / self.bse\n",
      "D:\\Anaconda\\lib\\site-packages\\statsmodels\\tsa\\stattools.py:1363: RuntimeWarning: invalid value encountered in divide\n",
      "  test_statistic = numer_squared_sum / denom_squared_sum\n",
      "D:\\Anaconda\\lib\\site-packages\\statsmodels\\tsa\\stattools.py:691: RuntimeWarning: invalid value encountered in divide\n",
      "  acf = avf[: nlags + 1] / avf[0]\n"
     ]
    }
   ],
   "source": [
    "# Summary of the SARIMA model\n",
    "print(results.summary())"
   ]
  },
  {
   "cell_type": "code",
   "execution_count": 17,
   "id": "da78fed5",
   "metadata": {},
   "outputs": [
    {
     "ename": "LinAlgError",
     "evalue": "The data appears to lie in a lower-dimensional subspace of the space in which it is expressed. This has resulted in a singular data covariance matrix, which cannot be treated using the algorithms implemented in `gaussian_kde`. Consider performing principle component analysis / dimensionality reduction and using `gaussian_kde` with the transformed data.",
     "output_type": "error",
     "traceback": [
      "\u001b[1;31m---------------------------------------------------------------------------\u001b[0m",
      "\u001b[1;31mLinAlgError\u001b[0m                               Traceback (most recent call last)",
      "File \u001b[1;32mD:\\Anaconda\\lib\\site-packages\\scipy\\stats\\_kde.py:223\u001b[0m, in \u001b[0;36mgaussian_kde.__init__\u001b[1;34m(self, dataset, bw_method, weights)\u001b[0m\n\u001b[0;32m    222\u001b[0m \u001b[38;5;28;01mtry\u001b[39;00m:\n\u001b[1;32m--> 223\u001b[0m     \u001b[38;5;28;43mself\u001b[39;49m\u001b[38;5;241;43m.\u001b[39;49m\u001b[43mset_bandwidth\u001b[49m\u001b[43m(\u001b[49m\u001b[43mbw_method\u001b[49m\u001b[38;5;241;43m=\u001b[39;49m\u001b[43mbw_method\u001b[49m\u001b[43m)\u001b[49m\n\u001b[0;32m    224\u001b[0m \u001b[38;5;28;01mexcept\u001b[39;00m linalg\u001b[38;5;241m.\u001b[39mLinAlgError \u001b[38;5;28;01mas\u001b[39;00m e:\n",
      "File \u001b[1;32mD:\\Anaconda\\lib\\site-packages\\scipy\\stats\\_kde.py:571\u001b[0m, in \u001b[0;36mgaussian_kde.set_bandwidth\u001b[1;34m(self, bw_method)\u001b[0m\n\u001b[0;32m    569\u001b[0m     \u001b[38;5;28;01mraise\u001b[39;00m \u001b[38;5;167;01mValueError\u001b[39;00m(msg)\n\u001b[1;32m--> 571\u001b[0m \u001b[38;5;28;43mself\u001b[39;49m\u001b[38;5;241;43m.\u001b[39;49m\u001b[43m_compute_covariance\u001b[49m\u001b[43m(\u001b[49m\u001b[43m)\u001b[49m\n",
      "File \u001b[1;32mD:\\Anaconda\\lib\\site-packages\\scipy\\stats\\_kde.py:583\u001b[0m, in \u001b[0;36mgaussian_kde._compute_covariance\u001b[1;34m(self)\u001b[0m\n\u001b[0;32m    580\u001b[0m     \u001b[38;5;28mself\u001b[39m\u001b[38;5;241m.\u001b[39m_data_covariance \u001b[38;5;241m=\u001b[39m atleast_2d(cov(\u001b[38;5;28mself\u001b[39m\u001b[38;5;241m.\u001b[39mdataset, rowvar\u001b[38;5;241m=\u001b[39m\u001b[38;5;241m1\u001b[39m,\n\u001b[0;32m    581\u001b[0m                                        bias\u001b[38;5;241m=\u001b[39m\u001b[38;5;28;01mFalse\u001b[39;00m,\n\u001b[0;32m    582\u001b[0m                                        aweights\u001b[38;5;241m=\u001b[39m\u001b[38;5;28mself\u001b[39m\u001b[38;5;241m.\u001b[39mweights))\n\u001b[1;32m--> 583\u001b[0m     \u001b[38;5;28mself\u001b[39m\u001b[38;5;241m.\u001b[39m_data_cho_cov \u001b[38;5;241m=\u001b[39m \u001b[43mlinalg\u001b[49m\u001b[38;5;241;43m.\u001b[39;49m\u001b[43mcholesky\u001b[49m\u001b[43m(\u001b[49m\u001b[38;5;28;43mself\u001b[39;49m\u001b[38;5;241;43m.\u001b[39;49m\u001b[43m_data_covariance\u001b[49m\u001b[43m,\u001b[49m\n\u001b[0;32m    584\u001b[0m \u001b[43m                                         \u001b[49m\u001b[43mlower\u001b[49m\u001b[38;5;241;43m=\u001b[39;49m\u001b[38;5;28;43;01mTrue\u001b[39;49;00m\u001b[43m)\u001b[49m\n\u001b[0;32m    586\u001b[0m \u001b[38;5;28mself\u001b[39m\u001b[38;5;241m.\u001b[39mcovariance \u001b[38;5;241m=\u001b[39m \u001b[38;5;28mself\u001b[39m\u001b[38;5;241m.\u001b[39m_data_covariance \u001b[38;5;241m*\u001b[39m \u001b[38;5;28mself\u001b[39m\u001b[38;5;241m.\u001b[39mfactor\u001b[38;5;241m*\u001b[39m\u001b[38;5;241m*\u001b[39m\u001b[38;5;241m2\u001b[39m\n",
      "File \u001b[1;32mD:\\Anaconda\\lib\\site-packages\\scipy\\linalg\\_decomp_cholesky.py:89\u001b[0m, in \u001b[0;36mcholesky\u001b[1;34m(a, lower, overwrite_a, check_finite)\u001b[0m\n\u001b[0;32m     46\u001b[0m \u001b[38;5;124;03m\"\"\"\u001b[39;00m\n\u001b[0;32m     47\u001b[0m \u001b[38;5;124;03mCompute the Cholesky decomposition of a matrix.\u001b[39;00m\n\u001b[0;32m     48\u001b[0m \n\u001b[1;32m   (...)\u001b[0m\n\u001b[0;32m     87\u001b[0m \n\u001b[0;32m     88\u001b[0m \u001b[38;5;124;03m\"\"\"\u001b[39;00m\n\u001b[1;32m---> 89\u001b[0m c, lower \u001b[38;5;241m=\u001b[39m \u001b[43m_cholesky\u001b[49m\u001b[43m(\u001b[49m\u001b[43ma\u001b[49m\u001b[43m,\u001b[49m\u001b[43m \u001b[49m\u001b[43mlower\u001b[49m\u001b[38;5;241;43m=\u001b[39;49m\u001b[43mlower\u001b[49m\u001b[43m,\u001b[49m\u001b[43m \u001b[49m\u001b[43moverwrite_a\u001b[49m\u001b[38;5;241;43m=\u001b[39;49m\u001b[43moverwrite_a\u001b[49m\u001b[43m,\u001b[49m\u001b[43m \u001b[49m\u001b[43mclean\u001b[49m\u001b[38;5;241;43m=\u001b[39;49m\u001b[38;5;28;43;01mTrue\u001b[39;49;00m\u001b[43m,\u001b[49m\n\u001b[0;32m     90\u001b[0m \u001b[43m                     \u001b[49m\u001b[43mcheck_finite\u001b[49m\u001b[38;5;241;43m=\u001b[39;49m\u001b[43mcheck_finite\u001b[49m\u001b[43m)\u001b[49m\n\u001b[0;32m     91\u001b[0m \u001b[38;5;28;01mreturn\u001b[39;00m c\n",
      "File \u001b[1;32mD:\\Anaconda\\lib\\site-packages\\scipy\\linalg\\_decomp_cholesky.py:37\u001b[0m, in \u001b[0;36m_cholesky\u001b[1;34m(a, lower, overwrite_a, clean, check_finite)\u001b[0m\n\u001b[0;32m     36\u001b[0m \u001b[38;5;28;01mif\u001b[39;00m info \u001b[38;5;241m>\u001b[39m \u001b[38;5;241m0\u001b[39m:\n\u001b[1;32m---> 37\u001b[0m     \u001b[38;5;28;01mraise\u001b[39;00m LinAlgError(\u001b[38;5;124m\"\u001b[39m\u001b[38;5;132;01m%d\u001b[39;00m\u001b[38;5;124m-th leading minor of the array is not positive \u001b[39m\u001b[38;5;124m\"\u001b[39m\n\u001b[0;32m     38\u001b[0m                       \u001b[38;5;124m\"\u001b[39m\u001b[38;5;124mdefinite\u001b[39m\u001b[38;5;124m\"\u001b[39m \u001b[38;5;241m%\u001b[39m info)\n\u001b[0;32m     39\u001b[0m \u001b[38;5;28;01mif\u001b[39;00m info \u001b[38;5;241m<\u001b[39m \u001b[38;5;241m0\u001b[39m:\n",
      "\u001b[1;31mLinAlgError\u001b[0m: 1-th leading minor of the array is not positive definite",
      "\nThe above exception was the direct cause of the following exception:\n",
      "\u001b[1;31mLinAlgError\u001b[0m                               Traceback (most recent call last)",
      "Cell \u001b[1;32mIn[17], line 2\u001b[0m\n\u001b[0;32m      1\u001b[0m \u001b[38;5;66;03m# Plot the SARIMA model diagnostics\u001b[39;00m\n\u001b[1;32m----> 2\u001b[0m \u001b[43mresults\u001b[49m\u001b[38;5;241;43m.\u001b[39;49m\u001b[43mplot_diagnostics\u001b[49m\u001b[43m(\u001b[49m\u001b[43mfigsize\u001b[49m\u001b[38;5;241;43m=\u001b[39;49m\u001b[43m(\u001b[49m\u001b[38;5;241;43m12\u001b[39;49m\u001b[43m,\u001b[49m\u001b[43m \u001b[49m\u001b[38;5;241;43m8\u001b[39;49m\u001b[43m)\u001b[49m\u001b[43m)\u001b[49m\n\u001b[0;32m      3\u001b[0m plt\u001b[38;5;241m.\u001b[39mshow()\n",
      "File \u001b[1;32mD:\\Anaconda\\lib\\site-packages\\statsmodels\\tsa\\statespace\\mlemodel.py:4639\u001b[0m, in \u001b[0;36mMLEResults.plot_diagnostics\u001b[1;34m(self, variable, lags, fig, figsize, truncate_endog_names, auto_ylims, bartlett_confint, acf_kwargs)\u001b[0m\n\u001b[0;32m   4635\u001b[0m ax\u001b[38;5;241m.\u001b[39mhist(resid_nonmissing, density\u001b[38;5;241m=\u001b[39m\u001b[38;5;28;01mTrue\u001b[39;00m, label\u001b[38;5;241m=\u001b[39m\u001b[38;5;124m'\u001b[39m\u001b[38;5;124mHist\u001b[39m\u001b[38;5;124m'\u001b[39m,\n\u001b[0;32m   4636\u001b[0m         edgecolor\u001b[38;5;241m=\u001b[39m\u001b[38;5;124m'\u001b[39m\u001b[38;5;124m#FFFFFF\u001b[39m\u001b[38;5;124m'\u001b[39m)\n\u001b[0;32m   4638\u001b[0m \u001b[38;5;28;01mfrom\u001b[39;00m \u001b[38;5;21;01mscipy\u001b[39;00m\u001b[38;5;21;01m.\u001b[39;00m\u001b[38;5;21;01mstats\u001b[39;00m \u001b[38;5;28;01mimport\u001b[39;00m gaussian_kde, norm\n\u001b[1;32m-> 4639\u001b[0m kde \u001b[38;5;241m=\u001b[39m \u001b[43mgaussian_kde\u001b[49m\u001b[43m(\u001b[49m\u001b[43mresid_nonmissing\u001b[49m\u001b[43m)\u001b[49m\n\u001b[0;32m   4640\u001b[0m xlim \u001b[38;5;241m=\u001b[39m (\u001b[38;5;241m-\u001b[39m\u001b[38;5;241m1.96\u001b[39m\u001b[38;5;241m*\u001b[39m\u001b[38;5;241m2\u001b[39m, \u001b[38;5;241m1.96\u001b[39m\u001b[38;5;241m*\u001b[39m\u001b[38;5;241m2\u001b[39m)\n\u001b[0;32m   4641\u001b[0m x \u001b[38;5;241m=\u001b[39m np\u001b[38;5;241m.\u001b[39mlinspace(xlim[\u001b[38;5;241m0\u001b[39m], xlim[\u001b[38;5;241m1\u001b[39m])\n",
      "File \u001b[1;32mD:\\Anaconda\\lib\\site-packages\\scipy\\stats\\_kde.py:232\u001b[0m, in \u001b[0;36mgaussian_kde.__init__\u001b[1;34m(self, dataset, bw_method, weights)\u001b[0m\n\u001b[0;32m    224\u001b[0m \u001b[38;5;28;01mexcept\u001b[39;00m linalg\u001b[38;5;241m.\u001b[39mLinAlgError \u001b[38;5;28;01mas\u001b[39;00m e:\n\u001b[0;32m    225\u001b[0m     msg \u001b[38;5;241m=\u001b[39m (\u001b[38;5;124m\"\u001b[39m\u001b[38;5;124mThe data appears to lie in a lower-dimensional subspace \u001b[39m\u001b[38;5;124m\"\u001b[39m\n\u001b[0;32m    226\u001b[0m            \u001b[38;5;124m\"\u001b[39m\u001b[38;5;124mof the space in which it is expressed. This has resulted \u001b[39m\u001b[38;5;124m\"\u001b[39m\n\u001b[0;32m    227\u001b[0m            \u001b[38;5;124m\"\u001b[39m\u001b[38;5;124min a singular data covariance matrix, which cannot be \u001b[39m\u001b[38;5;124m\"\u001b[39m\n\u001b[1;32m   (...)\u001b[0m\n\u001b[0;32m    230\u001b[0m            \u001b[38;5;124m\"\u001b[39m\u001b[38;5;124manalysis / dimensionality reduction and using \u001b[39m\u001b[38;5;124m\"\u001b[39m\n\u001b[0;32m    231\u001b[0m            \u001b[38;5;124m\"\u001b[39m\u001b[38;5;124m`gaussian_kde` with the transformed data.\u001b[39m\u001b[38;5;124m\"\u001b[39m)\n\u001b[1;32m--> 232\u001b[0m     \u001b[38;5;28;01mraise\u001b[39;00m linalg\u001b[38;5;241m.\u001b[39mLinAlgError(msg) \u001b[38;5;28;01mfrom\u001b[39;00m \u001b[38;5;21;01me\u001b[39;00m\n",
      "\u001b[1;31mLinAlgError\u001b[0m: The data appears to lie in a lower-dimensional subspace of the space in which it is expressed. This has resulted in a singular data covariance matrix, which cannot be treated using the algorithms implemented in `gaussian_kde`. Consider performing principle component analysis / dimensionality reduction and using `gaussian_kde` with the transformed data."
     ]
    },
    {
     "data": {
      "image/png": "[encoded data removed]",
      "text/plain": [
       "<Figure size 1200x800 with 2 Axes>"
      ]
     },
     "metadata": {},
     "output_type": "display_data"
    }
   ],
   "source": [
    "# Plot the SARIMA model diagnostics\n",
    "results.plot_diagnostics(figsize=(12, 8))\n",
    "plt.show()"
   ]
  },
  {
   "cell_type": "code",
   "execution_count": 20,
   "id": "c0aa87df",
   "metadata": {},
   "outputs": [],
   "source": [
    "# Forecast future cash flows for the next year (four quarters)\n",
    "forecast_periods = 4  # Number of future quarters to forecast"
   ]
  },
  {
   "cell_type": "code",
   "execution_count": 21,
   "id": "c211a705",
   "metadata": {},
   "outputs": [],
   "source": [
    "# Get the last date in the DataFrame\n",
    "last_date = df.index[-1]"
   ]
  },
  {
   "cell_type": "code",
   "execution_count": 22,
   "id": "e69c705c",
   "metadata": {},
   "outputs": [
    {
     "ename": "TypeError",
     "evalue": "unsupported operand type(s) for +: 'int' and 'DateOffset'",
     "output_type": "error",
     "traceback": [
      "\u001b[1;31m---------------------------------------------------------------------------\u001b[0m",
      "\u001b[1;31mTypeError\u001b[0m                                 Traceback (most recent call last)",
      "Cell \u001b[1;32mIn[22], line 2\u001b[0m\n\u001b[0;32m      1\u001b[0m \u001b[38;5;66;03m# Calculate the forecast start and end dates using pd.DateOffset\u001b[39;00m\n\u001b[1;32m----> 2\u001b[0m forecast_start_date \u001b[38;5;241m=\u001b[39m \u001b[43mlast_date\u001b[49m\u001b[43m \u001b[49m\u001b[38;5;241;43m+\u001b[39;49m\u001b[43m \u001b[49m\u001b[43mpd\u001b[49m\u001b[38;5;241;43m.\u001b[39;49m\u001b[43mDateOffset\u001b[49m\u001b[43m(\u001b[49m\u001b[43mmonths\u001b[49m\u001b[38;5;241;43m=\u001b[39;49m\u001b[38;5;241;43m3\u001b[39;49m\u001b[43m)\u001b[49m\n\u001b[0;32m      3\u001b[0m forecast_end_date \u001b[38;5;241m=\u001b[39m last_date \u001b[38;5;241m+\u001b[39m pd\u001b[38;5;241m.\u001b[39mDateOffset(months\u001b[38;5;241m=\u001b[39m\u001b[38;5;241m12\u001b[39m)\n",
      "\u001b[1;31mTypeError\u001b[0m: unsupported operand type(s) for +: 'int' and 'DateOffset'"
     ]
    }
   ],
   "source": [
    "# Calculate the forecast start and end dates using pd.DateOffset\n",
    "#forecast_start_date = last_date + pd.DateOffset(months=3)\n",
    "#forecast_end_date = last_date + pd.DateOffset(months=12)"
   ]
  },
  {
   "cell_type": "code",
   "execution_count": 26,
   "id": "aec91427",
   "metadata": {},
   "outputs": [
    {
     "name": "stdout",
     "output_type": "stream",
     "text": [
      "Forecast Start Date: 2023-04-01 00:00:00\n",
      "Forecast End Date: 2024-01-01 00:00:00\n"
     ]
    }
   ],
   "source": [
    "import pandas as pd\n",
    "\n",
    "# Assuming last_date is a Timestamp object\n",
    "last_date = pd.Timestamp('2023-01-01')\n",
    "\n",
    "# Calculate the forecast start and end dates using pd.DateOffset\n",
    "forecast_start_date = last_date + pd.DateOffset(months=3)\n",
    "forecast_end_date = last_date + pd.DateOffset(months=12)\n",
    "\n",
    "# Print the results\n",
    "print(\"Forecast Start Date:\", forecast_start_date)\n",
    "print(\"Forecast End Date:\", forecast_end_date)\n"
   ]
  },
  {
   "cell_type": "code",
   "execution_count": 31,
   "id": "07f6e0e6",
   "metadata": {},
   "outputs": [],
   "source": [
    "# Generate a date range for the forecast\n",
    "forecast_index = pd.date_range(start=forecast_start_date, end=forecast_end_date, freq='Q')"
   ]
  },
  {
   "cell_type": "code",
   "execution_count": 32,
   "id": "a32547e4",
   "metadata": {},
   "outputs": [
    {
     "ename": "IndentationError",
     "evalue": "unexpected indent (2192998346.py, line 2)",
     "output_type": "error",
     "traceback": [
      "\u001b[1;36m  Cell \u001b[1;32mIn[32], line 2\u001b[1;36m\u001b[0m\n\u001b[1;33m    forecast_periods = 8  # Number of future quarters to forecast\u001b[0m\n\u001b[1;37m    ^\u001b[0m\n\u001b[1;31mIndentationError\u001b[0m\u001b[1;31m:\u001b[0m unexpected indent\n"
     ]
    }
   ],
   "source": [
    " # Forecast future values for each type\n",
    "    forecast_periods = 8  # Number of future quarters to forecast\n",
    "\n",
    "    # Get the last date in the DataFrame\n",
    "    last_date = df['Date'].iloc[-1]\n",
    "\n",
    "    # Calculate the forecast start and end dates using pd.DateOffset\n",
    "    forecast_start_date = last_date + pd.DateOffset(months=3)\n",
    "    forecast_end_date = last_date + pd.DateOffset(months=24)  # Extend the forecast to 2024\n",
    "\n",
    "    # Generate a date range for the forecast, including 2023\n",
    "    forecast_index = pd.date_range(start=forecast_start_date, end=forecast_end_date, freq='Q')\n",
    "\n",
    "    # Forecast future values\n",
    "    forecast = results.get_forecast(steps=forecast_periods, index=forecast_index)\n",
    "\n",
    "    # Get the forecasted values and confidence intervals\n",
    "    forecast_mean = forecast.predicted_mean\n",
    "    forecast_ci = forecast.conf_int()"
   ]
  },
  {
   "cell_type": "code",
   "execution_count": 34,
   "id": "14d53a57",
   "metadata": {},
   "outputs": [
    {
     "ename": "TypeError",
     "evalue": "can only concatenate str (not \"DateOffset\") to str",
     "output_type": "error",
     "traceback": [
      "\u001b[1;31m---------------------------------------------------------------------------\u001b[0m",
      "\u001b[1;31mTypeError\u001b[0m                                 Traceback (most recent call last)",
      "Cell \u001b[1;32mIn[34], line 8\u001b[0m\n\u001b[0;32m      5\u001b[0m last_date \u001b[38;5;241m=\u001b[39m df[\u001b[38;5;124m'\u001b[39m\u001b[38;5;124mMonth\u001b[39m\u001b[38;5;124m'\u001b[39m]\u001b[38;5;241m.\u001b[39miloc[\u001b[38;5;241m-\u001b[39m\u001b[38;5;241m1\u001b[39m]\n\u001b[0;32m      7\u001b[0m \u001b[38;5;66;03m# Calculate the forecast start and end dates using pd.DateOffset\u001b[39;00m\n\u001b[1;32m----> 8\u001b[0m forecast_start_date \u001b[38;5;241m=\u001b[39m \u001b[43mlast_date\u001b[49m\u001b[43m \u001b[49m\u001b[38;5;241;43m+\u001b[39;49m\u001b[43m \u001b[49m\u001b[43mpd\u001b[49m\u001b[38;5;241;43m.\u001b[39;49m\u001b[43mDateOffset\u001b[49m\u001b[43m(\u001b[49m\u001b[43mmonths\u001b[49m\u001b[38;5;241;43m=\u001b[39;49m\u001b[38;5;241;43m3\u001b[39;49m\u001b[43m)\u001b[49m\n\u001b[0;32m      9\u001b[0m forecast_end_date \u001b[38;5;241m=\u001b[39m last_date \u001b[38;5;241m+\u001b[39m pd\u001b[38;5;241m.\u001b[39mDateOffset(months\u001b[38;5;241m=\u001b[39m\u001b[38;5;241m24\u001b[39m)  \u001b[38;5;66;03m# Extend the forecast to 2024\u001b[39;00m\n\u001b[0;32m     11\u001b[0m \u001b[38;5;66;03m# Generate a date range for the forecast, including 2023\u001b[39;00m\n",
      "\u001b[1;31mTypeError\u001b[0m: can only concatenate str (not \"DateOffset\") to str"
     ]
    }
   ],
   "source": [
    "# Forecast future values for each type\n",
    "forecast_periods = 8  # Number of future quarters to forecast\n",
    "\n",
    "# Get the last date in the DataFrame\n",
    "last_date = df['Month'].iloc[-1]\n",
    "\n",
    "# Calculate the forecast start and end dates using pd.DateOffset\n",
    "forecast_start_date = last_date + pd.DateOffset(months=3)\n",
    "forecast_end_date = last_date + pd.DateOffset(months=24)  # Extend the forecast to 2024\n",
    "\n",
    "# Generate a date range for the forecast, including 2023\n",
    "forecast_index = pd.date_range(start=forecast_start_date, end=forecast_end_date, freq='Q')\n",
    "\n",
    "# Forecast future values\n",
    "forecast = results.get_forecast(steps=forecast_periods, index=forecast_index)\n",
    "\n",
    "# Get the forecasted values and confidence intervals\n",
    "forecast_mean = forecast.predicted_mean\n",
    "forecast_ci = forecast.conf_int()\n",
    "\n",
    "\n"
   ]
  },
  {
   "cell_type": "code",
   "execution_count": null,
   "id": "2dc2eaf5",
   "metadata": {},
   "outputs": [],
   "source": []
  }
 ],
 "metadata": {
  "kernelspec": {
   "display_name": "Python 3 (ipykernel)",
   "language": "python",
   "name": "python3"
  },
  "language_info": {
   "codemirror_mode": {
    "name": "ipython",
    "version": 3
   },
   "file_extension": ".py",
   "mimetype": "text/x-python",
   "name": "python",
   "nbconvert_exporter": "python",
   "pygments_lexer": "ipython3",
   "version": "3.10.9"
  }
 },
 "nbformat": 4,
 "nbformat_minor": 5
}
