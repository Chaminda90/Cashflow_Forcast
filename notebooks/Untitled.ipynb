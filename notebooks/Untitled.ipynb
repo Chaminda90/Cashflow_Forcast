{
 "cells": [
  {
   "cell_type": "code",
   "execution_count": 19,
   "id": "9f99e0a4",
   "metadata": {},
   "outputs": [
    {
     "name": "stdout",
     "output_type": "stream",
     "text": [
      "Predicted amount for 2011: 35989.78571428545\n"
     ]
    }
   ],
   "source": [
    "from sklearn.linear_model import LinearRegression\n",
    "\n",
    "# Sample data\n",
    "years = [[1990], [1991], [1992], [1993], [1994], [1995], [1996], [1997]]\n",
    "amounts = [ 42690, 45490, 52578, 47809, 48370, 46766, 31528, 34477]\n",
    "\n",
    "# Create a linear regression model\n",
    "model = LinearRegression()\n",
    "\n",
    "# Fit the model to the data\n",
    "model.fit(years, amounts)\n",
    "\n",
    "# Predict the amount for 2011\n",
    "year_2011 = [[1998]]\n",
    "predicted_amount_2011 = model.predict(year_2011)\n",
    "\n",
    "print(\"Predicted amount for 2011:\", predicted_amount_2011[0])\n",
    "\n",
    "#, [1998]    , 43588"
   ]
  },
  {
   "cell_type": "code",
   "execution_count": 2,
   "id": "57bdd990",
   "metadata": {},
   "outputs": [
    {
     "name": "stdout",
     "output_type": "stream",
     "text": [
      "test\n"
     ]
    }
   ],
   "source": [
    "print(\"test\")"
   ]
  },
  {
   "cell_type": "code",
   "execution_count": 18,
   "id": "7646c571",
   "metadata": {},
   "outputs": [
    {
     "ename": "ValueError",
     "evalue": "time data '[1990]' does not match format '%Y' (match)",
     "output_type": "error",
     "traceback": [
      "\u001b[1;31m---------------------------------------------------------------------------\u001b[0m",
      "\u001b[1;31mValueError\u001b[0m                                Traceback (most recent call last)",
      "Cell \u001b[1;32mIn[18], line 19\u001b[0m\n\u001b[0;32m     16\u001b[0m df\u001b[38;5;241m.\u001b[39mset_index(\u001b[38;5;124m'\u001b[39m\u001b[38;5;124mYear\u001b[39m\u001b[38;5;124m'\u001b[39m, inplace\u001b[38;5;241m=\u001b[39m\u001b[38;5;28;01mTrue\u001b[39;00m)\n\u001b[0;32m     18\u001b[0m \u001b[38;5;66;03m# Convert the index to a datetime format (required for ARIMA)\u001b[39;00m\n\u001b[1;32m---> 19\u001b[0m df\u001b[38;5;241m.\u001b[39mindex \u001b[38;5;241m=\u001b[39m \u001b[43mpd\u001b[49m\u001b[38;5;241;43m.\u001b[39;49m\u001b[43mto_datetime\u001b[49m\u001b[43m(\u001b[49m\u001b[43mdf\u001b[49m\u001b[38;5;241;43m.\u001b[39;49m\u001b[43mindex\u001b[49m\u001b[43m,\u001b[49m\u001b[43m \u001b[49m\u001b[38;5;28;43mformat\u001b[39;49m\u001b[38;5;241;43m=\u001b[39;49m\u001b[38;5;124;43m'\u001b[39;49m\u001b[38;5;124;43m%\u001b[39;49m\u001b[38;5;124;43mY\u001b[39;49m\u001b[38;5;124;43m'\u001b[39;49m\u001b[43m)\u001b[49m\n\u001b[0;32m     21\u001b[0m \u001b[38;5;66;03m# Define the ARIMA model (p, d, q) parameters\u001b[39;00m\n\u001b[0;32m     22\u001b[0m p \u001b[38;5;241m=\u001b[39m \u001b[38;5;241m1\u001b[39m  \u001b[38;5;66;03m# Autoregressive order\u001b[39;00m\n",
      "File \u001b[1;32m~\\anaconda3\\lib\\site-packages\\pandas\\core\\tools\\datetimes.py:1077\u001b[0m, in \u001b[0;36mto_datetime\u001b[1;34m(arg, errors, dayfirst, yearfirst, utc, format, exact, unit, infer_datetime_format, origin, cache)\u001b[0m\n\u001b[0;32m   1075\u001b[0m         result \u001b[38;5;241m=\u001b[39m _convert_and_box_cache(arg, cache_array, name\u001b[38;5;241m=\u001b[39marg\u001b[38;5;241m.\u001b[39mname)\n\u001b[0;32m   1076\u001b[0m     \u001b[38;5;28;01melse\u001b[39;00m:\n\u001b[1;32m-> 1077\u001b[0m         result \u001b[38;5;241m=\u001b[39m \u001b[43mconvert_listlike\u001b[49m\u001b[43m(\u001b[49m\u001b[43marg\u001b[49m\u001b[43m,\u001b[49m\u001b[43m \u001b[49m\u001b[38;5;28;43mformat\u001b[39;49m\u001b[43m,\u001b[49m\u001b[43m \u001b[49m\u001b[43mname\u001b[49m\u001b[38;5;241;43m=\u001b[39;49m\u001b[43marg\u001b[49m\u001b[38;5;241;43m.\u001b[39;49m\u001b[43mname\u001b[49m\u001b[43m)\u001b[49m\n\u001b[0;32m   1078\u001b[0m \u001b[38;5;28;01melif\u001b[39;00m is_list_like(arg):\n\u001b[0;32m   1079\u001b[0m     \u001b[38;5;28;01mtry\u001b[39;00m:\n\u001b[0;32m   1080\u001b[0m         \u001b[38;5;66;03m# error: Argument 1 to \"_maybe_cache\" has incompatible type\u001b[39;00m\n\u001b[0;32m   1081\u001b[0m         \u001b[38;5;66;03m# \"Union[float, str, datetime, List[Any], Tuple[Any, ...], ExtensionArray,\u001b[39;00m\n\u001b[0;32m   1082\u001b[0m         \u001b[38;5;66;03m# ndarray[Any, Any], Series]\"; expected \"Union[List[Any], Tuple[Any, ...],\u001b[39;00m\n\u001b[0;32m   1083\u001b[0m         \u001b[38;5;66;03m# Union[Union[ExtensionArray, ndarray[Any, Any]], Index, Series], Series]\"\u001b[39;00m\n",
      "File \u001b[1;32m~\\anaconda3\\lib\\site-packages\\pandas\\core\\tools\\datetimes.py:430\u001b[0m, in \u001b[0;36m_convert_listlike_datetimes\u001b[1;34m(arg, format, name, tz, unit, errors, infer_datetime_format, dayfirst, yearfirst, exact)\u001b[0m\n\u001b[0;32m    427\u001b[0m         \u001b[38;5;28mformat\u001b[39m \u001b[38;5;241m=\u001b[39m \u001b[38;5;28;01mNone\u001b[39;00m\n\u001b[0;32m    429\u001b[0m \u001b[38;5;28;01mif\u001b[39;00m \u001b[38;5;28mformat\u001b[39m \u001b[38;5;129;01mis\u001b[39;00m \u001b[38;5;129;01mnot\u001b[39;00m \u001b[38;5;28;01mNone\u001b[39;00m:\n\u001b[1;32m--> 430\u001b[0m     res \u001b[38;5;241m=\u001b[39m \u001b[43m_to_datetime_with_format\u001b[49m\u001b[43m(\u001b[49m\n\u001b[0;32m    431\u001b[0m \u001b[43m        \u001b[49m\u001b[43marg\u001b[49m\u001b[43m,\u001b[49m\u001b[43m \u001b[49m\u001b[43morig_arg\u001b[49m\u001b[43m,\u001b[49m\u001b[43m \u001b[49m\u001b[43mname\u001b[49m\u001b[43m,\u001b[49m\u001b[43m \u001b[49m\u001b[43mtz\u001b[49m\u001b[43m,\u001b[49m\u001b[43m \u001b[49m\u001b[38;5;28;43mformat\u001b[39;49m\u001b[43m,\u001b[49m\u001b[43m \u001b[49m\u001b[43mexact\u001b[49m\u001b[43m,\u001b[49m\u001b[43m \u001b[49m\u001b[43merrors\u001b[49m\u001b[43m,\u001b[49m\u001b[43m \u001b[49m\u001b[43minfer_datetime_format\u001b[49m\n\u001b[0;32m    432\u001b[0m \u001b[43m    \u001b[49m\u001b[43m)\u001b[49m\n\u001b[0;32m    433\u001b[0m     \u001b[38;5;28;01mif\u001b[39;00m res \u001b[38;5;129;01mis\u001b[39;00m \u001b[38;5;129;01mnot\u001b[39;00m \u001b[38;5;28;01mNone\u001b[39;00m:\n\u001b[0;32m    434\u001b[0m         \u001b[38;5;28;01mreturn\u001b[39;00m res\n",
      "File \u001b[1;32m~\\anaconda3\\lib\\site-packages\\pandas\\core\\tools\\datetimes.py:538\u001b[0m, in \u001b[0;36m_to_datetime_with_format\u001b[1;34m(arg, orig_arg, name, tz, fmt, exact, errors, infer_datetime_format)\u001b[0m\n\u001b[0;32m    535\u001b[0m         \u001b[38;5;28;01mreturn\u001b[39;00m _box_as_indexlike(result, utc\u001b[38;5;241m=\u001b[39mutc, name\u001b[38;5;241m=\u001b[39mname)\n\u001b[0;32m    537\u001b[0m \u001b[38;5;66;03m# fallback\u001b[39;00m\n\u001b[1;32m--> 538\u001b[0m res \u001b[38;5;241m=\u001b[39m \u001b[43m_array_strptime_with_fallback\u001b[49m\u001b[43m(\u001b[49m\n\u001b[0;32m    539\u001b[0m \u001b[43m    \u001b[49m\u001b[43marg\u001b[49m\u001b[43m,\u001b[49m\u001b[43m \u001b[49m\u001b[43mname\u001b[49m\u001b[43m,\u001b[49m\u001b[43m \u001b[49m\u001b[43mtz\u001b[49m\u001b[43m,\u001b[49m\u001b[43m \u001b[49m\u001b[43mfmt\u001b[49m\u001b[43m,\u001b[49m\u001b[43m \u001b[49m\u001b[43mexact\u001b[49m\u001b[43m,\u001b[49m\u001b[43m \u001b[49m\u001b[43merrors\u001b[49m\u001b[43m,\u001b[49m\u001b[43m \u001b[49m\u001b[43minfer_datetime_format\u001b[49m\n\u001b[0;32m    540\u001b[0m \u001b[43m\u001b[49m\u001b[43m)\u001b[49m\n\u001b[0;32m    541\u001b[0m \u001b[38;5;28;01mreturn\u001b[39;00m res\n",
      "File \u001b[1;32m~\\anaconda3\\lib\\site-packages\\pandas\\core\\tools\\datetimes.py:473\u001b[0m, in \u001b[0;36m_array_strptime_with_fallback\u001b[1;34m(arg, name, tz, fmt, exact, errors, infer_datetime_format)\u001b[0m\n\u001b[0;32m    470\u001b[0m utc \u001b[38;5;241m=\u001b[39m tz \u001b[38;5;241m==\u001b[39m \u001b[38;5;124m\"\u001b[39m\u001b[38;5;124mutc\u001b[39m\u001b[38;5;124m\"\u001b[39m\n\u001b[0;32m    472\u001b[0m \u001b[38;5;28;01mtry\u001b[39;00m:\n\u001b[1;32m--> 473\u001b[0m     result, timezones \u001b[38;5;241m=\u001b[39m \u001b[43marray_strptime\u001b[49m\u001b[43m(\u001b[49m\u001b[43marg\u001b[49m\u001b[43m,\u001b[49m\u001b[43m \u001b[49m\u001b[43mfmt\u001b[49m\u001b[43m,\u001b[49m\u001b[43m \u001b[49m\u001b[43mexact\u001b[49m\u001b[38;5;241;43m=\u001b[39;49m\u001b[43mexact\u001b[49m\u001b[43m,\u001b[49m\u001b[43m \u001b[49m\u001b[43merrors\u001b[49m\u001b[38;5;241;43m=\u001b[39;49m\u001b[43merrors\u001b[49m\u001b[43m)\u001b[49m\n\u001b[0;32m    474\u001b[0m \u001b[38;5;28;01mexcept\u001b[39;00m OutOfBoundsDatetime:\n\u001b[0;32m    475\u001b[0m     \u001b[38;5;28;01mif\u001b[39;00m errors \u001b[38;5;241m==\u001b[39m \u001b[38;5;124m\"\u001b[39m\u001b[38;5;124mraise\u001b[39m\u001b[38;5;124m\"\u001b[39m:\n",
      "File \u001b[1;32m~\\anaconda3\\lib\\site-packages\\pandas\\_libs\\tslibs\\strptime.pyx:150\u001b[0m, in \u001b[0;36mpandas._libs.tslibs.strptime.array_strptime\u001b[1;34m()\u001b[0m\n",
      "\u001b[1;31mValueError\u001b[0m: time data '[1990]' does not match format '%Y' (match)"
     ]
    }
   ],
   "source": [
    "import pandas as pd\n",
    "import numpy as np\n",
    "import matplotlib.pyplot as plt\n",
    "from statsmodels.tsa.arima.model import ARIMA\n",
    "\n",
    "# Sample data\n",
    "data = {\n",
    "    'Year': [[1990], [1991], [1992], [1993], [1994], [1995], [1996], [1997], [1998]],\n",
    "    'Amount': [42690, 45490, 52578, 47809, 48370, 46766, 31528, 34477, 43588]\n",
    "}\n",
    "\n",
    "# Create a DataFrame\n",
    "df = pd.DataFrame(data)\n",
    "\n",
    "# Set 'Year' as the index\n",
    "df.set_index('Year', inplace=True)\n",
    "\n",
    "# Convert the index to a datetime format (required for ARIMA)\n",
    "df.index = pd.to_datetime(df.index, format='%Y')\n",
    "\n",
    "# Define the ARIMA model (p, d, q) parameters\n",
    "p = 1  # Autoregressive order\n",
    "d = 1  # Differencing order (to make the series stationary)\n",
    "q = 1  # Moving Average order\n",
    "\n",
    "# Fit the ARIMA model to the data\n",
    "model = ARIMA(df['Amount'], order=(p, d, q))\n",
    "model_fit = model.fit()\n",
    "\n",
    "# Forecast for the year 2011\n",
    "forecast = model_fit.forecast(steps=1)\n",
    "\n",
    "print(\"Predicted amount for 2011:\", forecast[0])\n",
    "\n",
    "# Plot the original data and the forecast\n",
    "plt.figure(figsize=(12, 6))\n",
    "plt.plot(df.index, df['Amount'], label='Original Data', marker='o')\n",
    "plt.plot(pd.to_datetime(['2011-01-01']), forecast[0], color='red', marker='o', label='Predicted Amount for 2011')\n",
    "plt.legend()\n",
    "plt.xlabel('Year')\n",
    "plt.ylabel('Amount')\n",
    "plt.title('ARIMA Time Series Forecasting')\n",
    "plt.show()\n"
   ]
  },
  {
   "cell_type": "code",
   "execution_count": 4,
   "id": "9228a018",
   "metadata": {},
   "outputs": [
    {
     "name": "stdout",
     "output_type": "stream",
     "text": [
      "Collecting prophet\n",
      "  Downloading prophet-1.1.4-py3-none-win_amd64.whl (12.9 MB)\n",
      "     -------------------------------------- 12.9/12.9 MB 331.0 kB/s eta 0:00:00\n",
      "Collecting convertdate>=2.1.2\n",
      "  Downloading convertdate-2.4.0-py3-none-any.whl (47 kB)\n",
      "     -------------------------------------- 47.9/47.9 kB 345.7 kB/s eta 0:00:00\n",
      "Requirement already satisfied: python-dateutil>=2.8.0 in c:\\users\\chamindadilhanbistec\\anaconda3\\lib\\site-packages (from prophet) (2.8.2)\n",
      "Collecting cmdstanpy>=1.0.4\n",
      "  Downloading cmdstanpy-1.1.0-py3-none-any.whl (83 kB)\n",
      "     -------------------------------------- 83.2/83.2 kB 274.5 kB/s eta 0:00:00\n",
      "Requirement already satisfied: numpy>=1.15.4 in c:\\users\\chamindadilhanbistec\\anaconda3\\lib\\site-packages (from prophet) (1.23.5)\n",
      "Requirement already satisfied: tqdm>=4.36.1 in c:\\users\\chamindadilhanbistec\\anaconda3\\lib\\site-packages (from prophet) (4.64.1)\n",
      "Collecting LunarCalendar>=0.0.9\n",
      "  Downloading LunarCalendar-0.0.9-py2.py3-none-any.whl (18 kB)\n",
      "Requirement already satisfied: holidays>=0.25 in c:\\users\\chamindadilhanbistec\\anaconda3\\lib\\site-packages (from prophet) (0.27.1)\n",
      "Requirement already satisfied: matplotlib>=2.0.0 in c:\\users\\chamindadilhanbistec\\anaconda3\\lib\\site-packages (from prophet) (3.7.0)\n",
      "Requirement already satisfied: pandas>=1.0.4 in c:\\users\\chamindadilhanbistec\\anaconda3\\lib\\site-packages (from prophet) (1.5.3)\n",
      "Collecting importlib-resources\n",
      "  Downloading importlib_resources-6.1.0-py3-none-any.whl (33 kB)\n",
      "Collecting pymeeus<=1,>=0.3.13\n",
      "  Downloading PyMeeus-0.5.12.tar.gz (5.8 MB)\n",
      "     ---------------------------------------- 5.8/5.8 MB 369.7 kB/s eta 0:00:00\n",
      "  Preparing metadata (setup.py): started\n",
      "  Preparing metadata (setup.py): finished with status 'done'\n",
      "Requirement already satisfied: pytz in c:\\users\\chamindadilhanbistec\\anaconda3\\lib\\site-packages (from LunarCalendar>=0.0.9->prophet) (2022.7)\n",
      "Collecting ephem>=3.7.5.3\n",
      "  Downloading ephem-4.1.4-cp310-cp310-win_amd64.whl (1.4 MB)\n",
      "     ---------------------------------------- 1.4/1.4 MB 289.4 kB/s eta 0:00:00\n",
      "Requirement already satisfied: fonttools>=4.22.0 in c:\\users\\chamindadilhanbistec\\anaconda3\\lib\\site-packages (from matplotlib>=2.0.0->prophet) (4.25.0)\n",
      "Requirement already satisfied: kiwisolver>=1.0.1 in c:\\users\\chamindadilhanbistec\\anaconda3\\lib\\site-packages (from matplotlib>=2.0.0->prophet) (1.4.4)\n",
      "Requirement already satisfied: cycler>=0.10 in c:\\users\\chamindadilhanbistec\\anaconda3\\lib\\site-packages (from matplotlib>=2.0.0->prophet) (0.11.0)\n",
      "Requirement already satisfied: contourpy>=1.0.1 in c:\\users\\chamindadilhanbistec\\anaconda3\\lib\\site-packages (from matplotlib>=2.0.0->prophet) (1.0.5)\n",
      "Requirement already satisfied: pillow>=6.2.0 in c:\\users\\chamindadilhanbistec\\anaconda3\\lib\\site-packages (from matplotlib>=2.0.0->prophet) (9.4.0)\n",
      "Requirement already satisfied: packaging>=20.0 in c:\\users\\chamindadilhanbistec\\anaconda3\\lib\\site-packages (from matplotlib>=2.0.0->prophet) (22.0)\n",
      "Requirement already satisfied: pyparsing>=2.3.1 in c:\\users\\chamindadilhanbistec\\anaconda3\\lib\\site-packages (from matplotlib>=2.0.0->prophet) (3.0.9)\n",
      "Requirement already satisfied: six>=1.5 in c:\\users\\chamindadilhanbistec\\anaconda3\\lib\\site-packages (from python-dateutil>=2.8.0->prophet) (1.16.0)\n",
      "Requirement already satisfied: colorama in c:\\users\\chamindadilhanbistec\\anaconda3\\lib\\site-packages (from tqdm>=4.36.1->prophet) (0.4.6)\n",
      "Building wheels for collected packages: pymeeus\n",
      "  Building wheel for pymeeus (setup.py): started\n",
      "  Building wheel for pymeeus (setup.py): finished with status 'done'\n",
      "  Created wheel for pymeeus: filename=PyMeeus-0.5.12-py3-none-any.whl size=732051 sha256=78b7b784a9994fd70cd1f3bd276d44707bfb9f73080def96f0141370510712e5\n",
      "  Stored in directory: c:\\users\\chamindadilhanbistec\\appdata\\local\\pip\\cache\\wheels\\74\\47\\c4\\678b0a3d5213e2f8500f3ea0f8dc3c81478e5b806c557dff58\n",
      "Successfully built pymeeus\n",
      "Installing collected packages: pymeeus, ephem, importlib-resources, convertdate, LunarCalendar, cmdstanpy, prophet\n",
      "Successfully installed LunarCalendar-0.0.9 cmdstanpy-1.1.0 convertdate-2.4.0 ephem-4.1.4 importlib-resources-6.1.0 prophet-1.1.4 pymeeus-0.5.12\n"
     ]
    }
   ],
   "source": [
    "!pip install prophet"
   ]
  },
  {
   "cell_type": "code",
   "execution_count": 8,
   "id": "0e67b527",
   "metadata": {},
   "outputs": [
    {
     "ename": "ModuleNotFoundError",
     "evalue": "No module named 'fbprophet'",
     "output_type": "error",
     "traceback": [
      "\u001b[1;31m---------------------------------------------------------------------------\u001b[0m",
      "\u001b[1;31mModuleNotFoundError\u001b[0m                       Traceback (most recent call last)",
      "Cell \u001b[1;32mIn[8], line 4\u001b[0m\n\u001b[0;32m      2\u001b[0m \u001b[38;5;28;01mimport\u001b[39;00m \u001b[38;5;21;01mnumpy\u001b[39;00m \u001b[38;5;28;01mas\u001b[39;00m \u001b[38;5;21;01mnp\u001b[39;00m\n\u001b[0;32m      3\u001b[0m \u001b[38;5;28;01mimport\u001b[39;00m \u001b[38;5;21;01mmatplotlib\u001b[39;00m\u001b[38;5;21;01m.\u001b[39;00m\u001b[38;5;21;01mpyplot\u001b[39;00m \u001b[38;5;28;01mas\u001b[39;00m \u001b[38;5;21;01mplt\u001b[39;00m\n\u001b[1;32m----> 4\u001b[0m \u001b[38;5;28;01mfrom\u001b[39;00m \u001b[38;5;21;01mfbprophet\u001b[39;00m \u001b[38;5;28;01mimport\u001b[39;00m Prophet\n\u001b[0;32m      6\u001b[0m \u001b[38;5;66;03m# Sample data\u001b[39;00m\n\u001b[0;32m      7\u001b[0m data \u001b[38;5;241m=\u001b[39m {\n\u001b[0;32m      8\u001b[0m     \u001b[38;5;124m'\u001b[39m\u001b[38;5;124mYear\u001b[39m\u001b[38;5;124m'\u001b[39m: [\u001b[38;5;241m1990\u001b[39m, \u001b[38;5;241m1991\u001b[39m, \u001b[38;5;241m1992\u001b[39m, \u001b[38;5;241m1993\u001b[39m, \u001b[38;5;241m1994\u001b[39m, \u001b[38;5;241m1995\u001b[39m, \u001b[38;5;241m1996\u001b[39m, \u001b[38;5;241m1997\u001b[39m, \u001b[38;5;241m1998\u001b[39m, \u001b[38;5;241m1999\u001b[39m, \u001b[38;5;241m2000\u001b[39m, \u001b[38;5;241m2001\u001b[39m, \u001b[38;5;241m2002\u001b[39m, \u001b[38;5;241m2003\u001b[39m, \u001b[38;5;241m2004\u001b[39m, \u001b[38;5;241m2005\u001b[39m, \u001b[38;5;241m2006\u001b[39m, \u001b[38;5;241m2007\u001b[39m, \u001b[38;5;241m2008\u001b[39m, \u001b[38;5;241m2009\u001b[39m, \u001b[38;5;241m2010\u001b[39m],\n\u001b[0;32m      9\u001b[0m     \u001b[38;5;124m'\u001b[39m\u001b[38;5;124mAmount\u001b[39m\u001b[38;5;124m'\u001b[39m: [\u001b[38;5;241m10\u001b[39m, \u001b[38;5;241m20\u001b[39m, \u001b[38;5;241m10\u001b[39m, \u001b[38;5;241m50\u001b[39m, \u001b[38;5;241m40\u001b[39m, \u001b[38;5;241m20\u001b[39m, \u001b[38;5;241m30\u001b[39m, \u001b[38;5;241m80\u001b[39m, \u001b[38;5;241m25\u001b[39m, \u001b[38;5;241m15\u001b[39m, \u001b[38;5;241m24\u001b[39m, \u001b[38;5;241m35\u001b[39m, \u001b[38;5;241m26\u001b[39m, \u001b[38;5;241m85\u001b[39m, \u001b[38;5;241m74\u001b[39m, \u001b[38;5;241m24\u001b[39m, \u001b[38;5;241m44\u001b[39m, \u001b[38;5;241m60\u001b[39m, \u001b[38;5;241m75\u001b[39m, \u001b[38;5;241m45\u001b[39m, \u001b[38;5;241m50\u001b[39m]\n\u001b[0;32m     10\u001b[0m }\n",
      "\u001b[1;31mModuleNotFoundError\u001b[0m: No module named 'fbprophet'"
     ]
    }
   ],
   "source": [
    "import pandas as pd\n",
    "import numpy as np\n",
    "import matplotlib.pyplot as plt\n",
    "from fbprophet import Prophet\n",
    "\n",
    "# Sample data\n",
    "data = {\n",
    "    'Year': [1990, 1991, 1992, 1993, 1994, 1995, 1996, 1997, 1998, 1999, 2000, 2001, 2002, 2003, 2004, 2005, 2006, 2007, 2008, 2009, 2010],\n",
    "    'Amount': [10, 20, 10, 50, 40, 20, 30, 80, 25, 15, 24, 35, 26, 85, 74, 24, 44, 60, 75, 45, 50]\n",
    "}\n",
    "\n",
    "# Create a DataFrame\n",
    "df = pd.DataFrame(data)\n",
    "\n",
    "# Rename columns as 'ds' (date) and 'y' (target variable)\n",
    "df.rename(columns={'Year': 'ds', 'Amount': 'y'}, inplace=True)\n",
    "\n",
    "# Initialize and fit the Prophet model\n",
    "model = Prophet()\n",
    "model.fit(df)\n",
    "\n",
    "# Create a DataFrame for the year 2011\n",
    "future = pd.DataFrame({'ds': pd.date_range(start='2011-01-01', end='2011-12-31', freq='D')})\n",
    "\n",
    "# Make predictions for 2011\n",
    "forecast = model.predict(future)\n",
    "\n",
    "# Extract the predicted amount for 2011\n",
    "predicted_amount_2011 = forecast.loc[forecast['ds'].dt.year == 2011, 'yhat'].values[0]\n",
    "\n",
    "print(\"Predicted amount for 2011:\", predicted_amount_2011)\n",
    "\n",
    "# Plot the original data and the forecast\n",
    "fig = model.plot(forecast)\n",
    "plt.title('Prophet Time Series Forecasting')\n",
    "plt.show()\n"
   ]
  },
  {
   "cell_type": "code",
   "execution_count": 6,
   "id": "1477c122",
   "metadata": {},
   "outputs": [
    {
     "name": "stdout",
     "output_type": "stream",
     "text": [
      "Collecting fbprophet\n",
      "  Downloading fbprophet-0.7.1.tar.gz (64 kB)\n",
      "     -------------------------------------- 64.0/64.0 kB 312.6 kB/s eta 0:00:00\n",
      "  Preparing metadata (setup.py): started\n",
      "  Preparing metadata (setup.py): finished with status 'done'\n",
      "Collecting Cython>=0.22\n",
      "  Downloading Cython-3.0.2-cp310-cp310-win_amd64.whl (2.8 MB)\n",
      "     ---------------------------------------- 2.8/2.8 MB 286.3 kB/s eta 0:00:00\n",
      "Collecting cmdstanpy==0.9.5\n",
      "  Downloading cmdstanpy-0.9.5-py3-none-any.whl (37 kB)\n",
      "Collecting pystan>=2.14\n",
      "  Downloading pystan-3.7.0-py3-none-any.whl (13 kB)\n",
      "Requirement already satisfied: numpy>=1.15.4 in c:\\users\\chamindadilhanbistec\\anaconda3\\lib\\site-packages (from fbprophet) (1.23.5)\n",
      "Requirement already satisfied: pandas>=1.0.4 in c:\\users\\chamindadilhanbistec\\anaconda3\\lib\\site-packages (from fbprophet) (1.5.3)\n",
      "Requirement already satisfied: matplotlib>=2.0.0 in c:\\users\\chamindadilhanbistec\\anaconda3\\lib\\site-packages (from fbprophet) (3.7.0)\n",
      "Requirement already satisfied: LunarCalendar>=0.0.9 in c:\\users\\chamindadilhanbistec\\anaconda3\\lib\\site-packages (from fbprophet) (0.0.9)\n",
      "Requirement already satisfied: convertdate>=2.1.2 in c:\\users\\chamindadilhanbistec\\anaconda3\\lib\\site-packages (from fbprophet) (2.4.0)\n",
      "Requirement already satisfied: holidays>=0.10.2 in c:\\users\\chamindadilhanbistec\\anaconda3\\lib\\site-packages (from fbprophet) (0.27.1)\n",
      "Collecting setuptools-git>=1.2\n",
      "  Downloading setuptools_git-1.2-py2.py3-none-any.whl (10 kB)\n",
      "Requirement already satisfied: python-dateutil>=2.8.0 in c:\\users\\chamindadilhanbistec\\anaconda3\\lib\\site-packages (from fbprophet) (2.8.2)\n",
      "Requirement already satisfied: tqdm>=4.36.1 in c:\\users\\chamindadilhanbistec\\anaconda3\\lib\\site-packages (from fbprophet) (4.64.1)\n",
      "Requirement already satisfied: pymeeus<=1,>=0.3.13 in c:\\users\\chamindadilhanbistec\\anaconda3\\lib\\site-packages (from convertdate>=2.1.2->fbprophet) (0.5.12)\n",
      "Requirement already satisfied: ephem>=3.7.5.3 in c:\\users\\chamindadilhanbistec\\anaconda3\\lib\\site-packages (from LunarCalendar>=0.0.9->fbprophet) (4.1.4)\n",
      "Requirement already satisfied: pytz in c:\\users\\chamindadilhanbistec\\anaconda3\\lib\\site-packages (from LunarCalendar>=0.0.9->fbprophet) (2022.7)\n",
      "Requirement already satisfied: contourpy>=1.0.1 in c:\\users\\chamindadilhanbistec\\anaconda3\\lib\\site-packages (from matplotlib>=2.0.0->fbprophet) (1.0.5)\n",
      "Requirement already satisfied: kiwisolver>=1.0.1 in c:\\users\\chamindadilhanbistec\\anaconda3\\lib\\site-packages (from matplotlib>=2.0.0->fbprophet) (1.4.4)\n",
      "Requirement already satisfied: cycler>=0.10 in c:\\users\\chamindadilhanbistec\\anaconda3\\lib\\site-packages (from matplotlib>=2.0.0->fbprophet) (0.11.0)\n",
      "Requirement already satisfied: pyparsing>=2.3.1 in c:\\users\\chamindadilhanbistec\\anaconda3\\lib\\site-packages (from matplotlib>=2.0.0->fbprophet) (3.0.9)\n",
      "Requirement already satisfied: fonttools>=4.22.0 in c:\\users\\chamindadilhanbistec\\anaconda3\\lib\\site-packages (from matplotlib>=2.0.0->fbprophet) (4.25.0)\n",
      "Requirement already satisfied: packaging>=20.0 in c:\\users\\chamindadilhanbistec\\anaconda3\\lib\\site-packages (from matplotlib>=2.0.0->fbprophet) (22.0)\n",
      "Requirement already satisfied: pillow>=6.2.0 in c:\\users\\chamindadilhanbistec\\anaconda3\\lib\\site-packages (from matplotlib>=2.0.0->fbprophet) (9.4.0)\n",
      "Collecting aiohttp<4.0,>=3.6\n",
      "  Downloading aiohttp-3.8.5-cp310-cp310-win_amd64.whl (323 kB)\n",
      "     ------------------------------------ 323.1/323.1 kB 541.4 kB/s eta 0:00:00\n",
      "Collecting pystan>=2.14\n",
      "  Downloading pystan-3.6.0-py3-none-any.whl (13 kB)\n",
      "  Downloading pystan-3.5.0-py3-none-any.whl (13 kB)\n",
      "  Downloading pystan-3.4.0-py3-none-any.whl (13 kB)\n",
      "  Downloading pystan-3.3.0-py3-none-any.whl (13 kB)\n",
      "  Downloading pystan-3.2.0-py3-none-any.whl (13 kB)\n",
      "Collecting pysimdjson<4.0,>=3.2\n",
      "  Downloading pysimdjson-3.2.0.tar.gz (411 kB)\n",
      "     ------------------------------------ 411.7/411.7 kB 535.2 kB/s eta 0:00:00\n",
      "  Preparing metadata (setup.py): started\n",
      "  Preparing metadata (setup.py): finished with status 'done'\n",
      "Collecting clikit<0.7,>=0.6\n",
      "  Downloading clikit-0.6.2-py2.py3-none-any.whl (91 kB)\n",
      "     -------------------------------------- 91.8/91.8 kB 348.7 kB/s eta 0:00:00\n",
      "Collecting pystan>=2.14\n",
      "  Downloading pystan-3.1.1-py3-none-any.whl (13 kB)\n",
      "  Downloading pystan-3.1.0-py3-none-any.whl (13 kB)\n",
      "  Downloading pystan-3.0.2-py3-none-any.whl (13 kB)\n",
      "  Downloading pystan-3.0.1-py3-none-any.whl (12 kB)\n",
      "  Downloading pystan-3.0.0-py3-none-any.whl (12 kB)\n",
      "  Downloading pystan-2.19.1.1.tar.gz (16.2 MB)\n",
      "     -------------------------------------- 16.2/16.2 MB 363.7 kB/s eta 0:00:00\n",
      "  Preparing metadata (setup.py): started\n",
      "  Preparing metadata (setup.py): finished with status 'error'\n",
      "Note: you may need to restart the kernel to use updated packages.\n"
     ]
    },
    {
     "name": "stderr",
     "output_type": "stream",
     "text": [
      "  error: subprocess-exited-with-error\n",
      "  \n",
      "  python setup.py egg_info did not run successfully.\n",
      "  exit code: 1\n",
      "  \n",
      "  [6 lines of output]\n",
      "  Traceback (most recent call last):\n",
      "    File \"<string>\", line 2, in <module>\n",
      "    File \"<pip-setuptools-caller>\", line 34, in <module>\n",
      "    File \"C:\\Users\\ChamindaDilhanBISTEC\\AppData\\Local\\Temp\\pip-install-44mb_mb4\\pystan_1cc0e68105554955a8929c5c2bfb347b\\setup.py\", line 122, in <module>\n",
      "      from Cython.Build.Inline import _get_build_extension\n",
      "  ModuleNotFoundError: No module named 'Cython'\n",
      "  [end of output]\n",
      "  \n",
      "  note: This error originates from a subprocess, and is likely not a problem with pip.\n",
      "error: metadata-generation-failed\n",
      "\n",
      "Encountered error while generating package metadata.\n",
      "\n",
      "See above for output.\n",
      "\n",
      "note: This is an issue with the package mentioned above, not pip.\n",
      "hint: See above for details.\n"
     ]
    }
   ],
   "source": [
    "pip install fbprophet"
   ]
  },
  {
   "cell_type": "code",
   "execution_count": 12,
   "id": "d2c24bde",
   "metadata": {},
   "outputs": [
    {
     "name": "stdout",
     "output_type": "stream",
     "text": [
      "Mean Squared Error: 260.72105887429313\n",
      "R-squared (R^2): 0.09270232852765492\n",
      "Predicted amount for 2011: 47.54148651430927\n"
     ]
    },
    {
     "name": "stderr",
     "output_type": "stream",
     "text": [
      "C:\\Users\\ChamindaDilhanBISTEC\\anaconda3\\lib\\site-packages\\sklearn\\base.py:420: UserWarning: X does not have valid feature names, but LinearRegression was fitted with feature names\n",
      "  warnings.warn(\n"
     ]
    }
   ],
   "source": [
    "import pandas as pd\n",
    "import numpy as np\n",
    "from sklearn.linear_model import LinearRegression\n",
    "from sklearn.model_selection import train_test_split\n",
    "from sklearn.metrics import mean_squared_error, r2_score\n",
    "\n",
    "# Sample data with multiple factors (Year and other factors)\n",
    "data = {\n",
    "    'Year': [1990, 1991, 1992, 1993, 1994, 1995, 1996, 1997, 1998, 1999, 2000, 2001, 2002, 2003, 2004, 2005, 2006, 2007, 2008, 2009, 2010],\n",
    "    'Factor1': [15, 20, 25, 30, 35, 40, 45, 50, 55, 60, 65, 70, 75, 80, 85, 90, 95, 100, 105, 110, 115],\n",
    "    'Factor2': [5, 10, 15, 20, 25, 30, 35, 40, 45, 50, 55, 60, 65, 70, 75, 80, 85, 90, 95, 100, 105],\n",
    "    'Amount': [10, 20, 10, 50, 40, 20, 30, 80, 25, 15, 24, 35, 26, 85, 74, 24, 44, 60, 75, 45, 50]\n",
    "}\n",
    "\n",
    "# Create a DataFrame\n",
    "df = pd.DataFrame(data)\n",
    "\n",
    "# Separate the features (factors) and the target variable (Amount)\n",
    "X = df[['Year', 'Factor1', 'Factor2']]\n",
    "y = df['Amount']\n",
    "\n",
    "# Split the data into training and testing sets (80% training, 20% testing)\n",
    "X_train, X_test, y_train, y_test = train_test_split(X, y, test_size=0.2, random_state=42)\n",
    "\n",
    "# Create a linear regression model\n",
    "model = LinearRegression()\n",
    "\n",
    "# Fit the model to the training data\n",
    "model.fit(X_train, y_train)\n",
    "\n",
    "# Make predictions on the test data\n",
    "y_pred = model.predict(X_test)\n",
    "\n",
    "# Calculate and print metrics (MSE and R^2) to evaluate the model's performance\n",
    "mse = mean_squared_error(y_test, y_pred)\n",
    "r2 = r2_score(y_test, y_pred)\n",
    "\n",
    "print(\"Mean Squared Error:\", mse)\n",
    "print(\"R-squared (R^2):\", r2)\n",
    "\n",
    "# Predict the amount for the year 2011\n",
    "year_2011_factors = [[2011, 120, 25]]\n",
    "predicted_amount_2011 = model.predict(year_2011_factors)\n",
    "\n",
    "print(\"Predicted amount for 2011:\", predicted_amount_2011[0])\n",
    "\n",
    "\n"
   ]
  },
  {
   "cell_type": "code",
   "execution_count": null,
   "id": "0532525a",
   "metadata": {},
   "outputs": [],
   "source": []
  }
 ],
 "metadata": {
  "kernelspec": {
   "display_name": "Python 3 (ipykernel)",
   "language": "python",
   "name": "python3"
  },
  "language_info": {
   "codemirror_mode": {
    "name": "ipython",
    "version": 3
   },
   "file_extension": ".py",
   "mimetype": "text/x-python",
   "name": "python",
   "nbconvert_exporter": "python",
   "pygments_lexer": "ipython3",
   "version": "3.10.9"
  }
 },
 "nbformat": 4,
 "nbformat_minor": 5
}
