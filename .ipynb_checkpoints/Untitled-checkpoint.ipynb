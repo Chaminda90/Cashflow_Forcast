{
 "cells": [
  {
   "cell_type": "code",
   "execution_count": null,
   "id": "4711e6d4",
   "metadata": {},
   "outputs": [],
   "source": [
    "from sklearn.linear_model import LinearRegression\n",
    "\n",
    "# Sample data\n",
    "years = [[1990], [1991], [1992], [1993], [1994], [1995], [1996], [1997], [1998], [1999], [2000], [2001], [2002], [2003], [2004], [2005], [2006], [2007], [2008], [2009], [2010]]\n",
    "amounts = [10, 20, 10, 50, 40, 20, 30, 80, 25, 15, 24, 35, 26, 85, 74, 24, 44, 60, 75, 45, 50]\n",
    "\n",
    "# Create a linear regression model\n",
    "model = LinearRegression()\n",
    "\n",
    "# Fit the model to the data\n",
    "model.fit(years, amounts)\n",
    "\n",
    "# Predict the amount for 2011\n",
    "year_2011 = [[2011]]\n",
    "predicted_amount_2011 = model.predict(year_2011)\n",
    "\n",
    "print(\"Predicted amount for 2011:\", predicted_amount_2011[0])\n"
   ]
  }
 ],
 "metadata": {
  "kernelspec": {
   "display_name": "Python 3 (ipykernel)",
   "language": "python",
   "name": "python3"
  },
  "language_info": {
   "codemirror_mode": {
    "name": "ipython",
    "version": 3
   },
   "file_extension": ".py",
   "mimetype": "text/x-python",
   "name": "python",
   "nbconvert_exporter": "python",
   "pygments_lexer": "ipython3",
   "version": "3.10.9"
  }
 },
 "nbformat": 4,
 "nbformat_minor": 5
}
